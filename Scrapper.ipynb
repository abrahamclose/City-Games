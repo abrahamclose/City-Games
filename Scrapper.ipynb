{
 "cells": [
  {
   "cell_type": "code",
   "execution_count": 12,
   "metadata": {},
   "outputs": [],
   "source": [
    "import urllib.request\n",
    "from bs4 import BeautifulSoup\n",
    "from selenium import webdriver\n",
    "import time\n",
    "import pandas as pd"
   ]
  },
  {
   "cell_type": "code",
   "execution_count": 46,
   "metadata": {},
   "outputs": [
    {
     "name": "stdout",
     "output_type": "stream",
     "text": [
      "https://groceries.asda.com/search/yogurt\n"
     ]
    }
   ],
   "source": [
    "urlpage = 'https://groceries.asda.com/search/yogurt'\n",
    "print(urlpage)"
   ]
  },
  {
   "cell_type": "code",
   "execution_count": 47,
   "metadata": {},
   "outputs": [
    {
     "name": "stdout",
     "output_type": "stream",
     "text": [
      "Number of results 67\n"
     ]
    }
   ],
   "source": [
    "driver = webdriver.Firefox()\n",
    "driver.get(urlpage)\n",
    "driver.execute_script(\"window.scrollTo(0, document.body.scrollHeight);var lenOfPage=document.body.scrollHeight;return lenOfPage;\")\n",
    "results = driver.find_elements_by_xpath(\"//*[@class=' co-product-list__main-cntr']//*[@class=' co-item ']//*[@class='co-product']//*[@class='co-item__title-container']//*[@class='co-product__title']\")\n",
    "print('Number of results', len(results))"
   ]
  },
  {
   "cell_type": "code",
   "execution_count": 48,
   "metadata": {},
   "outputs": [],
   "source": [
    "data = []\n",
    "# loop over results\n",
    "for result in results:\n",
    "    product_name = result.text\n",
    "    link = result.find_element_by_tag_name('a')\n",
    "    product_link = link.get_attribute(\"href\")\n",
    "    # append dict to array\n",
    "    data.append({\"product\" : product_name, \"link\" : product_link})"
   ]
  },
  {
   "cell_type": "code",
   "execution_count": 49,
   "metadata": {},
   "outputs": [
    {
     "name": "stdout",
     "output_type": "stream",
     "text": [
      "[{'product': 'Alpro Greek Style Mango Soya Yogurt Alternative', 'link': 'https://groceries.asda.com/product/910002285526'}, {'product': 'Munch Bunch Double Up Strawberry & Vanilla Yogurts', 'link': 'https://groceries.asda.com/product/910000446045'}, {'product': 'ASDA Greek Style Fat Free Yogurt', 'link': 'https://groceries.asda.com/product/910000461906'}, {'product': 'Petits Filous Apricot, Strawberry & Raspberry Yogurt', 'link': 'https://groceries.asda.com/product/910001458433'}, {'product': 'Petits Filous Apricot & Strawberry Yogurt', 'link': 'https://groceries.asda.com/product/910001458398'}, {'product': 'ASDA 6 Low Fat Red Fruit Yogurts', 'link': 'https://groceries.asda.com/product/910002962908'}, {'product': 'Frubes Strawberry, Red Berry and Peach Flavour Yogurt', 'link': 'https://groceries.asda.com/product/1000078555677'}, {'product': 'Muller Corner Vanilla Yogurt with Chocolate Balls', 'link': 'https://groceries.asda.com/product/1000120228362'}, {'product': 'Muller Corner Banana Yogurt with Chocolate Flakes', 'link': 'https://groceries.asda.com/product/1000120228335'}, {'product': 'Muller Corner Toffee Yogurt with Chocolate Hoops', 'link': 'https://groceries.asda.com/product/1000120228313'}, {'product': 'Muller Corner Strawberry Yogurt with White Chocolate Shortcake Balls', 'link': 'https://groceries.asda.com/product/1000120228351'}, {'product': 'Muller Corner Strawberry Yogurt', 'link': 'https://groceries.asda.com/product/1000120228322'}, {'product': 'Muller Corner Vanilla & Banana Yogurts with Chocolate Balls', 'link': 'https://groceries.asda.com/product/1000120228326'}, {'product': 'ASDA Greek Style Yogurt', 'link': 'https://groceries.asda.com/product/25611979'}, {'product': 'ASDA Greek Style Yogurt', 'link': 'https://groceries.asda.com/product/910000773349'}, {'product': 'Muller Rice Strawberry Low Fat Dessert', 'link': 'https://groceries.asda.com/product/910001390057'}, {'product': 'Wildlife Variety Yogurt Choobs', 'link': 'https://groceries.asda.com/product/1000078555663'}, {'product': 'Muller Light Fat Free Strawberry Yogurt', 'link': 'https://groceries.asda.com/product/1000116808369'}, {'product': 'Muller Light Fat Free Banana and Custard Yogurt', 'link': 'https://groceries.asda.com/product/1000116808339'}, {'product': 'Muller Light Fat Free Toffee Yogurt', 'link': 'https://groceries.asda.com/product/1000116808315'}, {'product': 'Muller Corner Vanilla Yogurt with Chocolate Digestive Biscuits', 'link': 'https://groceries.asda.com/product/1000120228348'}, {'product': 'Munch Bunch Squashums Raspberry Yogurt', 'link': 'https://groceries.asda.com/product/78035003'}, {'product': 'Petits Filous Raspberry & Strawberry Yogurt', 'link': 'https://groceries.asda.com/product/910001458097'}, {'product': 'Frubes Strawberry Flavour Yogurt', 'link': 'https://groceries.asda.com/product/1000078555632'}, {'product': 'ASDA Light Fat Free Lemon Yogurts', 'link': 'https://groceries.asda.com/product/1000108538806'}, {'product': 'Actimel Strawberry Yogurt Drinks', 'link': 'https://groceries.asda.com/product/976012'}, {'product': 'Actimel Strawberry Yogurt Drinks', 'link': 'https://groceries.asda.com/product/71431377'}, {'product': 'Wildlife Strawberry Flavour Yogurt Choobs', 'link': 'https://groceries.asda.com/product/1000078555728'}, {'product': 'ASDA Fat Free Natural Yogurt', 'link': 'https://groceries.asda.com/product/910000353976'}, {'product': 'ASDA Vitamin Boosting Strawberry Yogurts Drink', 'link': 'https://groceries.asda.com/product/910002360002'}, {'product': 'Muller Light Fat Free Orange & Dark Chocolate Yogurt', 'link': 'https://groceries.asda.com/product/1000116808329'}, {'product': 'Actimel Multifruit Yogurt Drinks', 'link': 'https://groceries.asda.com/product/1429710'}, {'product': 'Muller Light Fat Free Limited Edition Yogurt', 'link': 'https://groceries.asda.com/product/1000116808427'}, {'product': 'Frubes Strawberry & Raspberry Yogurt Pouches', 'link': 'https://groceries.asda.com/product/910000774448'}, {'product': 'Muller Corner Red Cherry Yogurt', 'link': 'https://groceries.asda.com/product/1000120228347'}, {'product': 'Actimel Multifruit Yogurt Drinks', 'link': 'https://groceries.asda.com/product/81421582'}, {'product': 'Onken Mango, Papaya & Passion Fruit Yogurt', 'link': 'https://groceries.asda.com/product/910000470832'}, {'product': 'Activia Low Fat Vanilla Yogurt & Granola', 'link': 'https://groceries.asda.com/product/1000078311452'}, {'product': 'Muller Light Fat Free Vanilla & Dark Chocolate Yogurt', 'link': 'https://groceries.asda.com/product/1000116808389'}, {'product': 'Petits Filous Raspberry & Strawberry Yogurt', 'link': 'https://groceries.asda.com/product/910001458254'}, {'product': 'ASDA Chocolate Balls Split Pot Yogurt', 'link': 'https://groceries.asda.com/product/1000006428079'}, {'product': 'Yeo Valley Little Yeos Fruity Favourites Yogurt', 'link': 'https://groceries.asda.com/product/1000000471824'}, {'product': 'Onken Fat Free Strawberry Yogurt', 'link': 'https://groceries.asda.com/product/910000470905'}, {'product': 'Fage Total Fat Free Greek Recipe Natural Yogurt', 'link': 'https://groceries.asda.com/product/24771357'}, {'product': 'Alpro Fruit Variety Soya Yogurt Alternative', 'link': 'https://groceries.asda.com/product/910000429344'}, {'product': 'Alpro Vanilla Soya Yogurt Alternative', 'link': 'https://groceries.asda.com/product/910000429544'}, {'product': 'Activia Strawberry Yogurts', 'link': 'https://groceries.asda.com/product/1000106846552'}, {'product': 'Fage Total Fat Free Greek Recipe Natural Yogurt', 'link': 'https://groceries.asda.com/product/910001162038'}, {'product': 'Activia Mango, Strawberry, Kiwi and Apricot Yogurts', 'link': 'https://groceries.asda.com/product/1000106846691'}, {'product': 'Munch Bunch Squashums Strawberry Yogurt Drinks', 'link': 'https://groceries.asda.com/product/48537352'}, {'product': 'Actimel Fat Free Strawberry Yogurt Drinks', 'link': 'https://groceries.asda.com/product/6979691'}, {'product': 'Muller Light Fat Free Vanilla Yogurt', 'link': 'https://groceries.asda.com/product/1000116808282'}, {'product': 'ASDA Smart Price Low Fat Natural Yogurt', 'link': 'https://groceries.asda.com/product/31061795'}, {'product': 'Arla Protein Strawberry Yogurt', 'link': 'https://groceries.asda.com/product/910001812876'}, {'product': 'Activia Rhubarb Yogurt', 'link': 'https://groceries.asda.com/product/1000106846731'}, {'product': 'Muller Light Fat Free Cherry Yogurt', 'link': 'https://groceries.asda.com/product/1000116808383'}, {'product': 'Onken Fat Free Vanilla Yogurt', 'link': 'https://groceries.asda.com/product/910000470969'}, {'product': 'Alpro Fruit Variety Soya Yogurt Alternative', 'link': 'https://groceries.asda.com/product/910000429344'}, {'product': 'Alpro Plain Unsweetened Soya Yogurt Alternative', 'link': 'https://groceries.asda.com/product/1000026447528'}, {'product': 'Alpro Plain with Coconut Soya Yogurt Alternative', 'link': 'https://groceries.asda.com/product/910001787018'}, {'product': 'Alpro Plain Soya Yogurt Alternative', 'link': 'https://groceries.asda.com/product/910000297653'}, {'product': 'Alpro Plain with Almond Soya Yogurt Alternative', 'link': 'https://groceries.asda.com/product/910001792165'}, {'product': 'Muller Corner Chocolate Digestive and Strawberry Shortcake Yogurts', 'link': 'https://groceries.asda.com/product/1000120228426'}, {'product': 'Ski Smooth Strawberry & Raspberry Yogurts', 'link': 'https://groceries.asda.com/product/910000019101'}, {'product': 'Activia Intensely Creamy Strawberry Yogurts', 'link': 'https://groceries.asda.com/product/910001285499'}, {'product': 'ASDA Disney Kitchen Apricot, Raspberry & Strawberry Fromage Frais Pots 12m+', 'link': 'https://groceries.asda.com/product/910003084364'}, {'product': 'Muller Light Fat Free Greek Style Strawberry Yogurts', 'link': 'https://groceries.asda.com/product/910000944384'}]\n"
     ]
    }
   ],
   "source": [
    "print(data)"
   ]
  },
  {
   "cell_type": "code",
   "execution_count": 50,
   "metadata": {},
   "outputs": [],
   "source": [
    "driver.quit()"
   ]
  },
  {
   "cell_type": "code",
   "execution_count": 51,
   "metadata": {},
   "outputs": [],
   "source": [
    "urlpage = 'https://www.google.com/search?q=arizona+cardinals&oq=arizona+car&aqs=chrome.0.35i39j69i57j0l4.1669j1j4&sourceid=chrome&ie=UTF-8#sie=t;/m/0ws7;6;/m/059yj;mt;fp;1;;'"
   ]
  },
  {
   "cell_type": "code",
   "execution_count": 95,
   "metadata": {},
   "outputs": [
    {
     "name": "stdout",
     "output_type": "stream",
     "text": [
      "[<selenium.webdriver.firefox.webelement.FirefoxWebElement (session=\"d91114c8-aaa8-4c42-a92f-6d78076ac6db\", element=\"1dcb7ae0-f6bd-4b65-8b33-1c685ef4c0e8\")>, <selenium.webdriver.firefox.webelement.FirefoxWebElement (session=\"d91114c8-aaa8-4c42-a92f-6d78076ac6db\", element=\"7004c8ae-13eb-49f5-ba2d-761b4b810055\")>, <selenium.webdriver.firefox.webelement.FirefoxWebElement (session=\"d91114c8-aaa8-4c42-a92f-6d78076ac6db\", element=\"a924372f-c114-431c-b598-a954c42220ec\")>, <selenium.webdriver.firefox.webelement.FirefoxWebElement (session=\"d91114c8-aaa8-4c42-a92f-6d78076ac6db\", element=\"16f6fac1-3c3e-4ae3-8681-ca6bf538617c\")>, <selenium.webdriver.firefox.webelement.FirefoxWebElement (session=\"d91114c8-aaa8-4c42-a92f-6d78076ac6db\", element=\"5127d738-4ba2-4ba7-899f-ebb3408b6355\")>, <selenium.webdriver.firefox.webelement.FirefoxWebElement (session=\"d91114c8-aaa8-4c42-a92f-6d78076ac6db\", element=\"fbb5ce27-61b9-49e8-920b-7e6d44f8fcd7\")>, <selenium.webdriver.firefox.webelement.FirefoxWebElement (session=\"d91114c8-aaa8-4c42-a92f-6d78076ac6db\", element=\"c2b01ffe-e897-4168-a380-a114f8bf5dfa\")>, <selenium.webdriver.firefox.webelement.FirefoxWebElement (session=\"d91114c8-aaa8-4c42-a92f-6d78076ac6db\", element=\"ea59edde-7b43-416e-accc-9634c7673891\")>, <selenium.webdriver.firefox.webelement.FirefoxWebElement (session=\"d91114c8-aaa8-4c42-a92f-6d78076ac6db\", element=\"31c3eb86-a367-46cc-9f72-89894f7dc014\")>, <selenium.webdriver.firefox.webelement.FirefoxWebElement (session=\"d91114c8-aaa8-4c42-a92f-6d78076ac6db\", element=\"066adc3c-e6fe-475b-a016-62abcc2ffb03\")>, <selenium.webdriver.firefox.webelement.FirefoxWebElement (session=\"d91114c8-aaa8-4c42-a92f-6d78076ac6db\", element=\"a2db51b5-2d4e-4fe7-a37f-d50f5e8728df\")>, <selenium.webdriver.firefox.webelement.FirefoxWebElement (session=\"d91114c8-aaa8-4c42-a92f-6d78076ac6db\", element=\"99109b56-5da3-4507-9a28-f896fe8ed83c\")>, <selenium.webdriver.firefox.webelement.FirefoxWebElement (session=\"d91114c8-aaa8-4c42-a92f-6d78076ac6db\", element=\"06fb46fe-aac3-414d-80cd-068dd8dcbe69\")>, <selenium.webdriver.firefox.webelement.FirefoxWebElement (session=\"d91114c8-aaa8-4c42-a92f-6d78076ac6db\", element=\"1b095897-aefb-4fd9-af05-0219017294f9\")>, <selenium.webdriver.firefox.webelement.FirefoxWebElement (session=\"d91114c8-aaa8-4c42-a92f-6d78076ac6db\", element=\"e8a5d01d-efbb-4f6e-be6e-f07b33bcb246\")>, <selenium.webdriver.firefox.webelement.FirefoxWebElement (session=\"d91114c8-aaa8-4c42-a92f-6d78076ac6db\", element=\"57b15f65-cd7e-47d2-82fa-d66c5fd6a88d\")>, <selenium.webdriver.firefox.webelement.FirefoxWebElement (session=\"d91114c8-aaa8-4c42-a92f-6d78076ac6db\", element=\"75f7b395-4cf9-45e4-96dc-ec8849d9c2a8\")>, <selenium.webdriver.firefox.webelement.FirefoxWebElement (session=\"d91114c8-aaa8-4c42-a92f-6d78076ac6db\", element=\"0dcc6d2a-9a92-4b44-9005-fc61a64b22fe\")>, <selenium.webdriver.firefox.webelement.FirefoxWebElement (session=\"d91114c8-aaa8-4c42-a92f-6d78076ac6db\", element=\"17b53a23-7ce3-4b04-aa02-35468d2a5bfc\")>, <selenium.webdriver.firefox.webelement.FirefoxWebElement (session=\"d91114c8-aaa8-4c42-a92f-6d78076ac6db\", element=\"3ccfa52b-d1af-41d9-a404-101933d7b60f\")>, <selenium.webdriver.firefox.webelement.FirefoxWebElement (session=\"d91114c8-aaa8-4c42-a92f-6d78076ac6db\", element=\"5ca35bad-9032-4ae2-974d-faca45f41572\")>, <selenium.webdriver.firefox.webelement.FirefoxWebElement (session=\"d91114c8-aaa8-4c42-a92f-6d78076ac6db\", element=\"12c226cf-fe34-41fc-9669-66f9112fa7ff\")>, <selenium.webdriver.firefox.webelement.FirefoxWebElement (session=\"d91114c8-aaa8-4c42-a92f-6d78076ac6db\", element=\"65600472-4b32-4469-ba10-870056795055\")>, <selenium.webdriver.firefox.webelement.FirefoxWebElement (session=\"d91114c8-aaa8-4c42-a92f-6d78076ac6db\", element=\"a8bce325-c94a-4e10-91ba-c9035a9ad193\")>, <selenium.webdriver.firefox.webelement.FirefoxWebElement (session=\"d91114c8-aaa8-4c42-a92f-6d78076ac6db\", element=\"efa29981-f6a9-4a65-807e-2226e8d53929\")>, <selenium.webdriver.firefox.webelement.FirefoxWebElement (session=\"d91114c8-aaa8-4c42-a92f-6d78076ac6db\", element=\"76e6328b-74a6-40ff-9d44-287e043b5f53\")>, <selenium.webdriver.firefox.webelement.FirefoxWebElement (session=\"d91114c8-aaa8-4c42-a92f-6d78076ac6db\", element=\"8e841067-e514-4506-8485-e5803ef1b359\")>, <selenium.webdriver.firefox.webelement.FirefoxWebElement (session=\"d91114c8-aaa8-4c42-a92f-6d78076ac6db\", element=\"723d8e1f-43a4-4082-96bb-60e0f8ccd0a9\")>, <selenium.webdriver.firefox.webelement.FirefoxWebElement (session=\"d91114c8-aaa8-4c42-a92f-6d78076ac6db\", element=\"16c54722-9709-45d0-b738-7c47ceaaf999\")>, <selenium.webdriver.firefox.webelement.FirefoxWebElement (session=\"d91114c8-aaa8-4c42-a92f-6d78076ac6db\", element=\"7bbb00ff-1f81-4125-8d63-cc43b0911394\")>, <selenium.webdriver.firefox.webelement.FirefoxWebElement (session=\"d91114c8-aaa8-4c42-a92f-6d78076ac6db\", element=\"411baa4e-e8fc-4d29-b015-8ac777aefab3\")>, <selenium.webdriver.firefox.webelement.FirefoxWebElement (session=\"d91114c8-aaa8-4c42-a92f-6d78076ac6db\", element=\"f720ac2b-ec2c-46f9-ac0d-dac5a876edc5\")>, <selenium.webdriver.firefox.webelement.FirefoxWebElement (session=\"d91114c8-aaa8-4c42-a92f-6d78076ac6db\", element=\"c8999433-26e4-4c37-8093-e1c0ea70cdbf\")>, <selenium.webdriver.firefox.webelement.FirefoxWebElement (session=\"d91114c8-aaa8-4c42-a92f-6d78076ac6db\", element=\"b706dfab-4217-440a-b04b-cb0ff9c93217\")>, <selenium.webdriver.firefox.webelement.FirefoxWebElement (session=\"d91114c8-aaa8-4c42-a92f-6d78076ac6db\", element=\"bd173ecc-0372-4bc4-85fe-f8d4f8f2e41d\")>, <selenium.webdriver.firefox.webelement.FirefoxWebElement (session=\"d91114c8-aaa8-4c42-a92f-6d78076ac6db\", element=\"73753117-a62d-4645-906d-2fc0927e746f\")>, <selenium.webdriver.firefox.webelement.FirefoxWebElement (session=\"d91114c8-aaa8-4c42-a92f-6d78076ac6db\", element=\"2dcd3c09-d09b-42f5-ba8a-da46193d915d\")>, <selenium.webdriver.firefox.webelement.FirefoxWebElement (session=\"d91114c8-aaa8-4c42-a92f-6d78076ac6db\", element=\"f896293c-b607-425e-9660-d89019ecef60\")>, <selenium.webdriver.firefox.webelement.FirefoxWebElement (session=\"d91114c8-aaa8-4c42-a92f-6d78076ac6db\", element=\"ed9193af-e915-4ee0-bc58-35433f71b567\")>, <selenium.webdriver.firefox.webelement.FirefoxWebElement (session=\"d91114c8-aaa8-4c42-a92f-6d78076ac6db\", element=\"421eb09a-b34f-4b88-bc5a-890b8f32c686\")>, <selenium.webdriver.firefox.webelement.FirefoxWebElement (session=\"d91114c8-aaa8-4c42-a92f-6d78076ac6db\", element=\"f471195f-1f98-49b5-83ce-373ab1e12856\")>, <selenium.webdriver.firefox.webelement.FirefoxWebElement (session=\"d91114c8-aaa8-4c42-a92f-6d78076ac6db\", element=\"35d0a0b1-7ecd-4465-afe8-dc380202e4e6\")>, <selenium.webdriver.firefox.webelement.FirefoxWebElement (session=\"d91114c8-aaa8-4c42-a92f-6d78076ac6db\", element=\"45354fe4-d86e-4709-ab1f-2cafa51fbe23\")>, <selenium.webdriver.firefox.webelement.FirefoxWebElement (session=\"d91114c8-aaa8-4c42-a92f-6d78076ac6db\", element=\"8a68788b-cf13-40bf-bccd-95280ad9f0c5\")>]\n"
     ]
    }
   ],
   "source": [
    "driver = webdriver.Firefox()\n",
    "driver.get(urlpage)\n",
    "time.sleep(30)\n",
    "#results = driver.find_elements_by_xpath(\"/html/body/div[6]/div[1]/div/div[2]/span/div/div/div[2]/div/div[2]/div[2]/div/div/div/div[1]/div/div/div[1]/div[3]/div[3]/div/table/tbody/tr[1]/td[1]/div/div/div/table/tbody/tr[5]/td[2]\")\n",
    "results = driver.find_elements_by_class_name(\"imspo_mt__tr\")\n",
    "print(results)\n",
    "driver.quit()"
   ]
  },
  {
   "cell_type": "code",
   "execution_count": 88,
   "metadata": {},
   "outputs": [],
   "source": [
    "data = []\n",
    "bo = False;\n",
    "x = 0\n",
    "# loop over results\n",
    "for result in results:\n",
    "    if (bo == False):\n",
    "        x = 1\n",
    "        bo = True\n",
    "    else:\n",
    "        x = 2\n",
    "        bo = False\n",
    "    product_name = result.text\n",
    "    try:\n",
    "        link = result.find_element_by_class_name('imspo_mt__t-sc').text\n",
    "    except:\n",
    "        link = \"TBD\"\n",
    "    link2 = result.find_element_by_class_name('ellipsisize').text\n",
    "    # append dict to array\n",
    "    data.append([\"Team\" + str(x),  link2 + \" \" + link])"
   ]
  },
  {
   "cell_type": "code",
   "execution_count": 100,
   "metadata": {},
   "outputs": [
    {
     "name": "stdout",
     "output_type": "stream",
     "text": [
      "[<selenium.webdriver.firefox.webelement.FirefoxWebElement (session=\"e7ac67fb-2667-4197-8604-9d79c8c0e5f3\", element=\"048eea4e-6d2c-4ad5-8a5c-0f25b1fac543\")>, <selenium.webdriver.firefox.webelement.FirefoxWebElement (session=\"e7ac67fb-2667-4197-8604-9d79c8c0e5f3\", element=\"38dd43b5-aebc-49fd-931e-b8fb785d244c\")>, <selenium.webdriver.firefox.webelement.FirefoxWebElement (session=\"e7ac67fb-2667-4197-8604-9d79c8c0e5f3\", element=\"8519d4b4-8018-414a-a65b-880ba3e0c44a\")>, <selenium.webdriver.firefox.webelement.FirefoxWebElement (session=\"e7ac67fb-2667-4197-8604-9d79c8c0e5f3\", element=\"69e8f80d-a816-4de4-b6e7-448c6a69cee8\")>, <selenium.webdriver.firefox.webelement.FirefoxWebElement (session=\"e7ac67fb-2667-4197-8604-9d79c8c0e5f3\", element=\"dbc39bff-1c4c-4af9-bf77-6d1fc6304fa2\")>, <selenium.webdriver.firefox.webelement.FirefoxWebElement (session=\"e7ac67fb-2667-4197-8604-9d79c8c0e5f3\", element=\"d708cadd-b769-4583-94fc-87c24fdc863e\")>, <selenium.webdriver.firefox.webelement.FirefoxWebElement (session=\"e7ac67fb-2667-4197-8604-9d79c8c0e5f3\", element=\"e5bbd442-b2ab-40fa-a26c-3d646110f618\")>, <selenium.webdriver.firefox.webelement.FirefoxWebElement (session=\"e7ac67fb-2667-4197-8604-9d79c8c0e5f3\", element=\"25cb6d04-559c-49b2-be19-40147226f1d3\")>, <selenium.webdriver.firefox.webelement.FirefoxWebElement (session=\"e7ac67fb-2667-4197-8604-9d79c8c0e5f3\", element=\"6499e6f7-aa30-488a-a157-bd0eb927aa6e\")>, <selenium.webdriver.firefox.webelement.FirefoxWebElement (session=\"e7ac67fb-2667-4197-8604-9d79c8c0e5f3\", element=\"02d00a13-84a1-43b4-b30e-f589b6a103e2\")>, <selenium.webdriver.firefox.webelement.FirefoxWebElement (session=\"e7ac67fb-2667-4197-8604-9d79c8c0e5f3\", element=\"3dacf246-36bd-4aff-b22e-889aed9afddf\")>, <selenium.webdriver.firefox.webelement.FirefoxWebElement (session=\"e7ac67fb-2667-4197-8604-9d79c8c0e5f3\", element=\"3b3e47f7-a165-40a0-b800-86c045ec6fd4\")>, <selenium.webdriver.firefox.webelement.FirefoxWebElement (session=\"e7ac67fb-2667-4197-8604-9d79c8c0e5f3\", element=\"58fc13f5-5188-4168-93c6-70771bc4c7d4\")>, <selenium.webdriver.firefox.webelement.FirefoxWebElement (session=\"e7ac67fb-2667-4197-8604-9d79c8c0e5f3\", element=\"67329e41-62c2-446b-a567-1c0fb0f3ca85\")>, <selenium.webdriver.firefox.webelement.FirefoxWebElement (session=\"e7ac67fb-2667-4197-8604-9d79c8c0e5f3\", element=\"48833eff-44b3-4c41-8861-96672d932a6f\")>, <selenium.webdriver.firefox.webelement.FirefoxWebElement (session=\"e7ac67fb-2667-4197-8604-9d79c8c0e5f3\", element=\"d136a15d-4b2c-493d-9382-94dfde752b8b\")>]\n"
     ]
    }
   ],
   "source": [
    "driver = webdriver.Firefox()\n",
    "driver.get(urlpage)\n",
    "time.sleep(30)\n",
    "#results = driver.find_elements_by_xpath(\"/html/body/div[6]/div[1]/div/div[2]/span/div/div/div[2]/div/div[2]/div[2]/div/div/div/div[1]/div/div/div[1]/div[3]/div[3]/div/table/tbody/tr[1]/td[1]/div/div/div/table/tbody/tr[5]/td[2]\")\n",
    "results2 = driver.find_elements_by_class_name(\"imspo_mt__cmd\")\n",
    "print(results2)"
   ]
  },
  {
   "cell_type": "code",
   "execution_count": 101,
   "metadata": {},
   "outputs": [
    {
     "name": "stdout",
     "output_type": "stream",
     "text": [
      "['8/8/19', '8/15/19', '8/24/19', '8/29/19', '9/8/19', '9/15', '9/22', '9/29', '10/6', '10/13', '10/20', '10/27', '10/31', '11/10', '11/17', 'Sun, 12/1']\n"
     ]
    }
   ],
   "source": [
    "dates = []\n",
    "for result in results2:\n",
    "    link = result.text\n",
    "    dates.append(link)\n",
    "    \n",
    "print(dates)"
   ]
  },
  {
   "cell_type": "code",
   "execution_count": 103,
   "metadata": {},
   "outputs": [
    {
     "name": "stdout",
     "output_type": "stream",
     "text": [
      "[{'Team1': 'Chargers 13', 'Team2': 'Cardinals 17', 'Date': '8/8/19'}, {'Team1': 'Raiders 33', 'Team2': 'Cardinals 26', 'Date': '8/15/19'}, {'Team1': 'Cardinals 9', 'Team2': 'Vikings 20', 'Date': '8/24/19'}, {'Team1': 'Cardinals 7', 'Team2': 'Broncos 20', 'Date': '8/29/19'}, {'Team1': 'Lions 27', 'Team2': 'Cardinals 27', 'Date': '9/8/19'}, {'Team1': 'Cardinals 17', 'Team2': 'Ravens 23', 'Date': '9/15'}, {'Team1': 'Panthers 38', 'Team2': 'Cardinals 20', 'Date': '9/22'}, {'Team1': 'Seahawks 27', 'Team2': 'Cardinals 10', 'Date': '9/29'}, {'Team1': 'Cardinals 26', 'Team2': 'Bengals 23', 'Date': '10/6'}, {'Team1': 'Falcons 33', 'Team2': 'Cardinals 34', 'Date': '10/13'}, {'Team1': 'Cardinals 27', 'Team2': 'Giants 21', 'Date': '10/20'}, {'Team1': 'Cardinals 9', 'Team2': 'Saints 31', 'Date': '10/27'}, {'Team1': '49ers 28', 'Team2': 'Cardinals 25', 'Date': '10/31'}, {'Team1': 'Cardinals 27', 'Team2': 'Buccaneers 30', 'Date': '11/10'}, {'Team1': 'Cardinals 26', 'Team2': '49ers 36', 'Date': '11/17'}, {'Team1': 'Rams 34', 'Team2': 'Cardinals 7', 'Date': 'Sun, 12/1'}]\n"
     ]
    }
   ],
   "source": [
    "data2 = []\n",
    "x = 0\n",
    "stall = False\n",
    "for k in range(len(data)):\n",
    "    if (stall):\n",
    "        stall = False\n",
    "    else:\n",
    "        try:\n",
    "            data2.append({\"Team1\" : data[k][1], \"Team2\" : data[k+1][1], \"Date\" : dates[x]})\n",
    "            x+=1\n",
    "            stall = True\n",
    "        except: \n",
    "            break\n",
    "        \n",
    "print(data2)"
   ]
  },
  {
   "cell_type": "code",
   "execution_count": null,
   "metadata": {},
   "outputs": [],
   "source": []
  }
 ],
 "metadata": {
  "kernelspec": {
   "display_name": "Python 3",
   "language": "python",
   "name": "python3"
  },
  "language_info": {
   "codemirror_mode": {
    "name": "ipython",
    "version": 3
   },
   "file_extension": ".py",
   "mimetype": "text/x-python",
   "name": "python",
   "nbconvert_exporter": "python",
   "pygments_lexer": "ipython3",
   "version": "3.7.3"
  }
 },
 "nbformat": 4,
 "nbformat_minor": 2
}
